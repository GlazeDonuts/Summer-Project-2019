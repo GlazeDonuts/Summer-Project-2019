{
 "cells": [
  {
   "cell_type": "code",
   "execution_count": 12,
   "metadata": {},
   "outputs": [
    {
     "name": "stdout",
     "output_type": "stream",
     "text": [
      "Epoch [1/5], Step [100/469], Loss: 0.1490, Accuracy: 95.31%\n",
      "Epoch [1/5], Step [200/469], Loss: 0.1093, Accuracy: 95.31%\n",
      "Epoch [1/5], Step [300/469], Loss: 0.2820, Accuracy: 93.75%\n",
      "Epoch [1/5], Step [400/469], Loss: 0.2303, Accuracy: 95.31%\n",
      "Epoch [2/5], Step [100/469], Loss: 0.0429, Accuracy: 97.66%\n",
      "Epoch [2/5], Step [200/469], Loss: 0.0431, Accuracy: 98.44%\n",
      "Epoch [2/5], Step [300/469], Loss: 0.1128, Accuracy: 97.66%\n",
      "Epoch [2/5], Step [400/469], Loss: 0.0775, Accuracy: 99.22%\n",
      "Epoch [3/5], Step [100/469], Loss: 0.0971, Accuracy: 97.66%\n",
      "Epoch [3/5], Step [200/469], Loss: 0.0932, Accuracy: 96.88%\n",
      "Epoch [3/5], Step [300/469], Loss: 0.1142, Accuracy: 97.66%\n",
      "Epoch [3/5], Step [400/469], Loss: 0.0112, Accuracy: 100.00%\n",
      "Epoch [4/5], Step [100/469], Loss: 0.0272, Accuracy: 98.44%\n",
      "Epoch [4/5], Step [200/469], Loss: 0.0730, Accuracy: 98.44%\n",
      "Epoch [4/5], Step [300/469], Loss: 0.0191, Accuracy: 99.22%\n",
      "Epoch [4/5], Step [400/469], Loss: 0.0370, Accuracy: 97.66%\n",
      "Epoch [5/5], Step [100/469], Loss: 0.0183, Accuracy: 99.22%\n",
      "Epoch [5/5], Step [200/469], Loss: 0.0533, Accuracy: 97.66%\n",
      "Epoch [5/5], Step [300/469], Loss: 0.0662, Accuracy: 97.66%\n",
      "Epoch [5/5], Step [400/469], Loss: 0.0654, Accuracy: 97.66%\n"
     ]
    }
   ],
   "source": [
    "#https://adventuresinmachinelearning.com/convolutional-neural-networks-tutorial-in-pytorch/ <<====Link Followed for this code\n",
    "\n",
    "\n",
    "\n",
    "import numpy as np\n",
    "import matplotlib.pyplot as plt\n",
    "import torch\n",
    "import torch.nn as nn\n",
    "import torchvision\n",
    "import torchvision.transforms as transforms\n",
    "import torch.utils.data as dt\n",
    "import pickle as cPickle\n",
    "import gzip\n",
    "import cv2\n",
    "\n",
    "num_epochs = 5\n",
    "num_classes = 10\n",
    "batch_size = 128\n",
    "learning_rate = 0.001\n",
    "\n",
    "DATA_PATH = \"/media/khurshed2504/Data/PycharmProjects/ML_temp0\"\n",
    "\n",
    "trans = transforms.Compose([transforms.ToTensor(), transforms.Normalize((0.1307,), (0.3081,))])\n",
    "\n",
    "# MNIST dataset\n",
    "train_dataset = torchvision.datasets.MNIST(root=DATA_PATH, train=True, transform=trans, download=True)\n",
    "test_dataset = torchvision.datasets.MNIST(root=DATA_PATH, train=False, transform=trans)\n",
    "\n",
    "\n",
    "train_loader = dt.DataLoader(dataset=train_dataset, batch_size=batch_size, shuffle=True)\n",
    "test_loader = dt.DataLoader(dataset=test_dataset, shuffle=False)\n",
    "\n",
    "\n",
    "class ConvNet(nn.Module):\n",
    "    def __init__(self):\n",
    "        super(ConvNet,self).__init__()\n",
    "\n",
    "        self.layer1 = nn.Sequential(\n",
    "            nn.Conv2d(1,32, 5, 1, padding = 2),\n",
    "            torch.nn.ReLU(),\n",
    "            nn.MaxPool2d(kernel_size=2, stride=2)\n",
    "        )\n",
    "\n",
    "        self.layer2 = nn.Sequential(\n",
    "            nn.Conv2d(32, 64, 5, 1, padding=2),\n",
    "            torch.nn.ReLU(),\n",
    "            nn.MaxPool2d(2, 2)\n",
    "        )\n",
    "\n",
    "        self.dropout = nn.Dropout()\n",
    "\n",
    "        self.fc1 = nn.Linear(7*7*64, 1000)\n",
    "        self.fc2 = nn.Linear(1000, 10)\n",
    "\n",
    "\n",
    "    def forward(self, x):\n",
    "        out = self.layer1(x)\n",
    "        out = self.layer2(out)\n",
    "        # print(out.shape)\n",
    "        out = out.reshape((-1,64*7*7))\n",
    "        # print(out.shape)\n",
    "        out = self.dropout(out)\n",
    "        out = self.fc1(out)\n",
    "        out = self.fc2(out)\n",
    "\n",
    "        return out\n",
    "\n",
    "\n",
    "\n",
    "\n",
    "model = ConvNet()\n",
    "\n",
    "lossfn = nn.CrossEntropyLoss()\n",
    "optimizer = torch.optim.Adam(model.parameters(), lr = learning_rate)\n",
    "\n",
    "total_step = len(train_loader)\n",
    "\n",
    "costs = []\n",
    "acc_list = []\n",
    "\n",
    "\n",
    "for epoch in range(num_epochs):\n",
    "    for i, (images, labels) in enumerate(train_loader):\n",
    "\n",
    "        # Forward prop\n",
    "        outputs = model(images)\n",
    "        loss = lossfn(outputs, labels)\n",
    "        costs.append(loss.item())\n",
    "\n",
    "        # Backward prop\n",
    "        optimizer.zero_grad()\n",
    "        loss.backward()\n",
    "        optimizer.step()\n",
    "\n",
    "        #  Tracking Accuracy\n",
    "        total = labels.size(0)\n",
    "        _, predicted = torch.max(outputs.data, 1)\n",
    "        correct = (predicted == labels).sum().item()\n",
    "        acc_list.append(correct / total)\n",
    "\n",
    "        if (i + 1) % 100 == 0:\n",
    "            print('Epoch [{}/{}], Step [{}/{}], Loss: {:.4f}, Accuracy: {:.2f}%'\n",
    "                  .format(epoch + 1, num_epochs, i + 1, total_step, loss.item(),\n",
    "                          (correct / total) * 100))"
   ]
  },
  {
   "cell_type": "code",
   "execution_count": 13,
   "metadata": {},
   "outputs": [
    {
     "data": {
      "image/png": "[encoded data removed]",
      "text/plain": [
       "<Figure size 432x288 with 1 Axes>"
      ]
     },
     "metadata": {
      "needs_background": "light"
     },
     "output_type": "display_data"
    },
    {
     "name": "stdout",
     "output_type": "stream",
     "text": [
      "torch.Size([96, 1, 28, 28])\n"
     ]
    }
   ],
   "source": [
    "fig = plt.figure()\n",
    "fig.suptitle('Learning Curves', fontsize=20)\n",
    "plt.xlabel('Number of Iterations', fontsize=14)\n",
    "plt.plot(costs, label = 'Cost')\n",
    "plt.plot(acc_list, label = 'Accuracy')\n",
    "plt.legend()\n",
    "plt.show()\n",
    "print(images.shape)"
   ]
  },
  {
   "cell_type": "code",
   "execution_count": 14,
   "metadata": {},
   "outputs": [
    {
     "name": "stdout",
     "output_type": "stream",
     "text": [
      "Accuracy over Test set is :  98.82490802619142\n"
     ]
    }
   ],
   "source": [
    "model.eval()\n",
    "for i, (images, labels) in enumerate(test_loader):\n",
    "    outputs = model(images)\n",
    "    loss = lossfn(outputs, labels)\n",
    "    costs.append(loss.item())\n",
    "    total = labels.size(0)\n",
    "    _, predicted = torch.max(outputs.data, 1)\n",
    "    correct = (predicted == labels).sum().item()\n",
    "    acc_list.append(correct / total)\n",
    "acc = np.mean(np.array(acc_list))\n",
    "print(\"Accuracy over Test set is : \",100*acc)"
   ]
  },
  {
   "cell_type": "code",
   "execution_count": 15,
   "metadata": {},
   "outputs": [],
   "source": [
    "#Storing the Model's State Dictionary\n",
    "MODEL_STORE_PATH = \"/media/khurshed2504/Data/PycharmProjects/ML_temp0/PyTorch Models/MNIST 0\"\n",
    "torch.save(model.state_dict(),MODEL_STORE_PATH)"
   ]
  }
 ],
 "metadata": {
  "kernelspec": {
   "display_name": "Python 3",
   "language": "python",
   "name": "python3"
  },
  "language_info": {
   "codemirror_mode": {
    "name": "ipython",
    "version": 3
   },
   "file_extension": ".py",
   "mimetype": "text/x-python",
   "name": "python",
   "nbconvert_exporter": "python",
   "pygments_lexer": "ipython3",
   "version": "3.6.8"
  }
 },
 "nbformat": 4,
 "nbformat_minor": 2
}
