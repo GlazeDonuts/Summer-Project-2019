{
 "cells": [
  {
   "cell_type": "code",
   "execution_count": 1,
   "metadata": {},
   "outputs": [
    {
     "name": "stdout",
     "output_type": "stream",
     "text": [
      "X Shape :  (784, 50000)\n",
      "Ynum Shape (Native) :  (50000,)\n",
      "Ynum Shape (After Reshape) :  (1, 50000)\n",
      "[[5 0 4 ... 8 4 8]]\n",
      "Shape of Test Data :  (10000, 784)\n",
      "Accuracy after  0  Iterarions is :  10.632\n",
      "Accuracy after  10  Iterarions is :  75.996\n",
      "Accuracy after  20  Iterarions is :  79.986\n",
      "Accuracy after  30  Iterarions is :  81.896\n",
      "Accuracy after  40  Iterarions is :  83.03\n",
      "Accuracy after  50  Iterarions is :  83.812\n",
      "Accuracy after  60  Iterarions is :  84.396\n",
      "Accuracy after  70  Iterarions is :  84.918\n",
      "Accuracy after  80  Iterarions is :  85.30799999999999\n",
      "Accuracy after  90  Iterarions is :  85.66\n",
      "Accuracy after  100  Iterarions is :  85.938\n",
      "Accuracy after  110  Iterarions is :  86.168\n",
      "Accuracy after  120  Iterarions is :  86.366\n",
      "Accuracy after  130  Iterarions is :  86.55199999999999\n",
      "Accuracy after  140  Iterarions is :  86.732\n",
      "Accuracy after  150  Iterarions is :  86.902\n",
      "Accuracy after  160  Iterarions is :  87.03999999999999\n",
      "Accuracy after  170  Iterarions is :  87.164\n",
      "Accuracy after  180  Iterarions is :  87.348\n",
      "Accuracy after  190  Iterarions is :  87.46199999999999\n",
      "Accuracy after  200  Iterarions is :  87.576\n",
      "Accuracy after  210  Iterarions is :  87.68599999999999\n",
      "Accuracy after  220  Iterarions is :  87.78200000000001\n",
      "Accuracy after  230  Iterarions is :  87.896\n",
      "Accuracy after  240  Iterarions is :  87.96199999999999\n",
      "Accuracy after  250  Iterarions is :  88.056\n",
      "Accuracy after  260  Iterarions is :  88.128\n",
      "Accuracy after  270  Iterarions is :  88.196\n",
      "Accuracy after  280  Iterarions is :  88.24\n",
      "Accuracy after  290  Iterarions is :  88.312\n",
      "Accuracy after  300  Iterarions is :  88.364\n",
      "Accuracy after  310  Iterarions is :  88.442\n",
      "Accuracy after  320  Iterarions is :  88.504\n",
      "Accuracy after  330  Iterarions is :  88.568\n",
      "Accuracy after  340  Iterarions is :  88.604\n",
      "Accuracy after  350  Iterarions is :  88.66000000000001\n",
      "Accuracy after  360  Iterarions is :  88.716\n",
      "Accuracy after  370  Iterarions is :  88.768\n",
      "Accuracy after  380  Iterarions is :  88.806\n",
      "Accuracy after  390  Iterarions is :  88.856\n",
      "Accuracy after  400  Iterarions is :  88.89200000000001\n",
      "Accuracy after  410  Iterarions is :  88.944\n",
      "Accuracy after  420  Iterarions is :  89.012\n",
      "Accuracy after  430  Iterarions is :  89.05199999999999\n",
      "Accuracy after  440  Iterarions is :  89.094\n",
      "Accuracy after  450  Iterarions is :  89.122\n",
      "Accuracy after  460  Iterarions is :  89.176\n",
      "Accuracy after  470  Iterarions is :  89.21\n",
      "Accuracy after  480  Iterarions is :  89.24600000000001\n",
      "Accuracy after  490  Iterarions is :  89.294\n",
      "Accuracy after  500  Iterarions is :  89.30799999999999\n",
      "Accuracy after  510  Iterarions is :  89.334\n",
      "Accuracy after  520  Iterarions is :  89.366\n",
      "Accuracy after  530  Iterarions is :  89.396\n",
      "Accuracy after  540  Iterarions is :  89.432\n",
      "Accuracy after  550  Iterarions is :  89.454\n",
      "Accuracy after  560  Iterarions is :  89.49000000000001\n",
      "Accuracy after  570  Iterarions is :  89.506\n",
      "Accuracy after  580  Iterarions is :  89.526\n",
      "Accuracy after  590  Iterarions is :  89.55199999999999\n",
      "Accuracy after  600  Iterarions is :  89.564\n",
      "Accuracy after  610  Iterarions is :  89.61\n",
      "Accuracy after  620  Iterarions is :  89.62599999999999\n",
      "Accuracy after  630  Iterarions is :  89.63\n",
      "Accuracy after  640  Iterarions is :  89.654\n",
      "Accuracy after  650  Iterarions is :  89.676\n",
      "Accuracy after  660  Iterarions is :  89.698\n",
      "Accuracy after  670  Iterarions is :  89.724\n",
      "Accuracy after  680  Iterarions is :  89.752\n",
      "Accuracy after  690  Iterarions is :  89.768\n",
      "Accuracy after  700  Iterarions is :  89.78\n",
      "Accuracy after  710  Iterarions is :  89.81400000000001\n",
      "Accuracy after  720  Iterarions is :  89.85\n",
      "Accuracy after  730  Iterarions is :  89.872\n",
      "Accuracy after  740  Iterarions is :  89.888\n",
      "Accuracy after  750  Iterarions is :  89.908\n",
      "Accuracy after  760  Iterarions is :  89.91799999999999\n",
      "Accuracy after  770  Iterarions is :  89.938\n",
      "Accuracy after  780  Iterarions is :  89.958\n",
      "Accuracy after  790  Iterarions is :  89.974\n",
      "Accuracy after  800  Iterarions is :  89.994\n",
      "Accuracy after  810  Iterarions is :  90.01599999999999\n",
      "Accuracy after  820  Iterarions is :  90.036\n",
      "Accuracy after  830  Iterarions is :  90.046\n",
      "Accuracy after  840  Iterarions is :  90.058\n",
      "Accuracy after  850  Iterarions is :  90.072\n",
      "Accuracy after  860  Iterarions is :  90.086\n",
      "Accuracy after  870  Iterarions is :  90.098\n",
      "Accuracy after  880  Iterarions is :  90.122\n",
      "Accuracy after  890  Iterarions is :  90.13\n",
      "Accuracy after  900  Iterarions is :  90.16\n",
      "Accuracy after  910  Iterarions is :  90.178\n",
      "Accuracy after  920  Iterarions is :  90.18599999999999\n",
      "Accuracy after  930  Iterarions is :  90.2\n",
      "Accuracy after  940  Iterarions is :  90.208\n",
      "Accuracy after  950  Iterarions is :  90.218\n",
      "Accuracy after  960  Iterarions is :  90.216\n",
      "Accuracy after  970  Iterarions is :  90.226\n",
      "Accuracy after  980  Iterarions is :  90.242\n",
      "Accuracy after  990  Iterarions is :  90.252\n"
     ]
    }
   ],
   "source": [
    "import numpy as np\n",
    "import matplotlib.pyplot as plt\n",
    "import pickle as cPickle\n",
    "import gzip\n",
    "\n",
    "def npSoftmax(X):\n",
    "    e = np.exp(X)\n",
    "    return e/np.sum(e,axis=0,keepdims=True)\n",
    "\n",
    "def prediction(Al, Ynum):\n",
    "    arg = np.argmax(Al,axis=0)\n",
    "    arg = arg.reshape(1,Ynum.shape[1])\n",
    "    # print(arg.shape, Ynum.shape)\n",
    "    cnt = 0\n",
    "    # print(\"predicting\")\n",
    "    for i in range(Ynum.shape[1]):\n",
    "        if(arg[0,i]==Ynum[0,i]):\n",
    "            cnt = cnt+1\n",
    "    return (cnt/Ynum.shape[1])\n",
    "\n",
    "def para_init(n_X) :\n",
    "    W = np.random.randn(10, n_X)*0.01\n",
    "    b = np.zeros((10,1))\n",
    "\n",
    "    return W, b\n",
    "\n",
    "def update(X, W, b, A, Y, lr):\n",
    "    m = Y.shape[1]\n",
    "    dZ = A - Y\n",
    "    dW = np.dot(dZ,X.T)/m\n",
    "    db = np.sum(dZ,axis=1).reshape(10,1)/m\n",
    "\n",
    "    W -= lr*dW\n",
    "    b -= lr*db\n",
    "\n",
    "    return W,b\n",
    "\n",
    "def forward_prop(X, W, b):\n",
    "    Z = np.dot(W,X) + b\n",
    "    A = npSoftmax(Z)\n",
    "\n",
    "    return Z, A\n",
    "\n",
    "def costcomp(A, Y):\n",
    "    c = np.sum(-1*(Y*np.log(A)))/Y.shape[1]\n",
    "    return c\n",
    "\n",
    "\n",
    "def learn(X, W, b, Y, Ynum, lr, num_iter, show):\n",
    "    costs = []\n",
    "    accs = []\n",
    "    for i in range(num_iter):\n",
    "        Z, A = forward_prop(X, W, b)\n",
    "        W, b = update(X, W, b, A, Y, lr)\n",
    "        costs.append(costcomp(A, Ynum))\n",
    "        accs.append(100*prediction(A,Ynum))\n",
    "        if show and i%10 == 0:\n",
    "            print(\"Accuracy after \",i,\" Iterarions is : \",100*prediction(A,Ynum))\n",
    "\n",
    "    plt.plot(costs)\n",
    "    return W,b,accs,costs\n",
    "\n",
    "\n",
    "data = gzip.open(\"/media/khurshed2504/Data/PycharmProjects/ML_temp0/mnist.pkl.gz\")\n",
    "train_data,  validation_data, test_data = cPickle.load(data,encoding=\"latin1\")\n",
    "\n",
    "\n",
    "X = train_data[0]\n",
    "X = X.T\n",
    "print(\"X Shape : \",X.shape)\n",
    "n_X = X.shape[0]\n",
    "m = X.shape[1]\n",
    "\n",
    "Ynum = train_data[1]\n",
    "print(\"Ynum Shape (Native) : \", Ynum.shape)\n",
    "Ynum = Ynum.reshape(1, Ynum.shape[0])\n",
    "print(\"Ynum Shape (After Reshape) : \", Ynum.shape)\n",
    "print(Ynum)\n",
    "\n",
    "print(\"Shape of Test Data : \", test_data[0].shape)\n",
    "# Y = np.eye(10)[Ynum]\n",
    "# print(Y.shape)\n",
    "# Y = Y.squeeze()\n",
    "# print(Y.shape)\n",
    "# Y = Y.reshape(10,50000)\n",
    "Y = np.zeros((10,m))\n",
    "for i in range(m):\n",
    "    Y[int(Ynum[0,i]),i]=1\n",
    "\n",
    "W, b = para_init(n_X)\n",
    "\n",
    "# for i in range(50):\n",
    "#     Y1 = np.array(Y[:, 1000*(i):1000*(i+1)]).reshape(10, 1000)\n",
    "#     X1 = np.array(X[:, 1000*(i):1000*(i+1)]).reshape(784, 1000)\n",
    "#     Ynum1 = np.array(Ynum[:, 1000 * (i):1000 * (i + 1)]).reshape(1, 1000)\n",
    "W,b,accs,costs = learn(X, W, b, Y, Ynum, lr = 0.1, num_iter = 1000, show = True)"
   ]
  },
  {
   "cell_type": "code",
   "execution_count": 6,
   "metadata": {},
   "outputs": [
    {
     "data": {
      "text/plain": [
       "[<matplotlib.lines.Line2D at 0x7f9332163860>]"
      ]
     },
     "execution_count": 6,
     "metadata": {},
     "output_type": "execute_result"
    },
    {
     "data": {
      "image/png": "[encoded data removed]",
      "text/plain": [
       "<Figure size 432x288 with 1 Axes>"
      ]
     },
     "metadata": {
      "needs_background": "light"
     },
     "output_type": "display_data"
    }
   ],
   "source": [
    "import matplotlib.pyplot as plt\n",
    "fig = plt.figure()\n",
    "fig.suptitle('Learning Curve', fontsize=20)\n",
    "plt.xlabel('Number of Iterations', fontsize=14)\n",
    "plt.ylabel('Accuracy', fontsize = 14)\n",
    "plt.plot(accs)"
   ]
  },
  {
   "cell_type": "code",
   "execution_count": 7,
   "metadata": {},
   "outputs": [
    {
     "name": "stdout",
     "output_type": "stream",
     "text": [
      "(10, 10000)\n",
      "Accuracy over Test Set is :  91.01\n"
     ]
    }
   ],
   "source": [
    "X_test = test_data[0]\n",
    "X_test = X_test.T\n",
    "Z, A = forward_prop(X_test, W, b)\n",
    "Ynum_test = test_data[1]\n",
    "#print(\"Ynum Shape (Native) : \", Ynum.shape)\n",
    "Ynum_test = Ynum_test.reshape(1, Ynum_test.shape[0])\n",
    "#print(\"Ynum Shape (After Reshape) : \", Ynum.shape)\n",
    "#print(Ynum1)\n",
    "print(A.shape)\n",
    "print(\"Accuracy over Test Set is : \",100*prediction(A,Ynum_test))"
   ]
  },
  {
   "cell_type": "code",
   "execution_count": 8,
   "metadata": {},
   "outputs": [
    {
     "name": "stdout",
     "output_type": "stream",
     "text": [
      "\n"
     ]
    },
    {
     "data": {
      "image/png": "[encoded data removed]",
      "text/plain": [
       "<Figure size 432x288 with 1 Axes>"
      ]
     },
     "metadata": {
      "needs_background": "light"
     },
     "output_type": "display_data"
    },
    {
     "name": "stdout",
     "output_type": "stream",
     "text": [
      "It is a :  0\n"
     ]
    }
   ],
   "source": [
    "index = 25\n",
    "print()\n",
    "x = X_test[:,index].reshape(784,1)\n",
    "im = x.reshape(28,28)\n",
    "plt.imshow(im)\n",
    "plt.show()\n",
    "Z, A = forward_prop(x, W, b)\n",
    "print(\"It is a : \",np.argmax(A))"
   ]
  },
  {
   "cell_type": "code",
   "execution_count": 9,
   "metadata": {},
   "outputs": [],
   "source": [
    "import pandas as pd\n",
    "dfW = pd.DataFrame(W)\n",
    "dfb = pd.DataFrame(b)\n",
    "dfW.to_csv(\"/media/khurshed2504/Data/PycharmProjects/ML_temp0/Only SoftMax Weights/Weight.csv\",header=None,index=None)\n",
    "dfb.to_csv(\"/media/khurshed2504/Data/PycharmProjects/ML_temp0/Only SoftMax Weights/Bias.csv\",header=None,index=None)"
   ]
  },
  {
   "cell_type": "code",
   "execution_count": null,
   "metadata": {},
   "outputs": [],
   "source": []
  },
  {
   "cell_type": "code",
   "execution_count": null,
   "metadata": {},
   "outputs": [],
   "source": []
  },
  {
   "cell_type": "code",
   "execution_count": null,
   "metadata": {},
   "outputs": [],
   "source": []
  }
 ],
 "metadata": {
  "kernelspec": {
   "display_name": "Python 3",
   "language": "python",
   "name": "python3"
  },
  "language_info": {
   "codemirror_mode": {
    "name": "ipython",
    "version": 3
   },
   "file_extension": ".py",
   "mimetype": "text/x-python",
   "name": "python",
   "nbconvert_exporter": "python",
   "pygments_lexer": "ipython3",
   "version": "3.6.8"
  }
 },
 "nbformat": 4,
 "nbformat_minor": 2
}
